{
 "cells": [
  {
   "cell_type": "code",
   "execution_count": 1,
   "metadata": {
    "ExecuteTime": {
     "end_time": "2019-01-08T09:27:42.633170Z",
     "start_time": "2019-01-08T09:27:31.145426Z"
    }
   },
   "outputs": [
    {
     "name": "stderr",
     "output_type": "stream",
     "text": [
      "E:\\Anaconda\\lib\\site-packages\\h5py\\__init__.py:36: FutureWarning: Conversion of the second argument of issubdtype from `float` to `np.floating` is deprecated. In future, it will be treated as `np.float64 == np.dtype(float).type`.\n",
      "  from ._conv import register_converters as _register_converters\n"
     ]
    }
   ],
   "source": [
    "import numpy as np\n",
    "import tensorflow as tf\n",
    "from tensorflow.contrib import rnn\n",
    "import matplotlib.pyplot as plt\n",
    "from tensorflow.contrib.learn.python.learn.estimators.estimator import SKCompat\n",
    "from matplotlib import style\n",
    "import pandas as pd\n",
    "import warnings \n",
    "warnings.filterwarnings('ignore')\n",
    "\n",
    "\n",
    "\n",
    "'''自定义数据尺度缩放函数'''\n",
    "def data_processing(raw_data,scale=True):\n",
    "    if scale == True:\n",
    "        return (raw_data-np.mean(raw_data))/np.std(raw_data)#标准化\n",
    "    else:\n",
    "        return (raw_data-np.min(raw_data))/(np.max(raw_data)-np.min(raw_data))#极差规格化\n",
    "    \n",
    "def scale_inv(raw_data,scale=True):\n",
    "    '''读入原始数据并转为list'''\n",
    "    file_path= '门店销量预测数据.xlsx'\n",
    "    df = pd.read_excel(file_path,parse_dates=[1])\n",
    "\n",
    "    nm=df.loc[df['门店编号']=='NM000019']\n",
    "    nm.sort_values('日期',inplace=True)\n",
    "    nm.reset_index(drop=True,inplace=True)\n",
    "    data=nm['总销售额'].values\n",
    "\n",
    "    if scale == True:\n",
    "        return raw_data*np.std(data)+np.mean(data)\n",
    "    else:\n",
    "        return raw_data*(np.max(data)-np.min(data))+np.min(data)\n",
    "\n",
    "'''设置隐层神经元个数'''\n",
    "HIDDEN_SIZE = 40\n",
    "'''设置隐层层数'''\n",
    "NUM_LAYERS = 1\n",
    "'''设置一个时间步中折叠的递归步数'''\n",
    "TIMESTEPS = 30\n",
    "'''设置训练轮数'''\n",
    "TRAINING_STEPS = 10000\n",
    "'''设置训练批尺寸'''\n",
    "BATCH_SIZE = 10\n",
    "\n",
    "\n",
    "\n",
    "\n",
    "'''样本数据生成函数'''\n",
    "def generate_data(seq):\n",
    "    X = []#初始化输入序列X\n",
    "    Y= []#初始化输出序列Y\n",
    "    '''生成连贯的时间序列类型样本集，每一个X内的一行对应指定步长的输入序列，Y内的每一行对应比X滞后一期的目标数值'''\n",
    "    for i in range(len(seq) - 2*14):\n",
    "        X.append([seq[i:i + 14]])#从输入序列第一期出发，等步长连续不间断采样\n",
    "        Y.append([seq[i + 14:i + 2*14]])#对应每个X序列的滞后一期序列值\n",
    "    return np.array(X, dtype=np.float32), np.array(Y, dtype=np.float32)\n",
    "\n",
    "\n",
    "'''定义LSTM cell组件，该组件将在训练过程中被不断更新参数'''\n",
    "def LstmCell():\n",
    "    lstm_cell = rnn.BasicLSTMCell(HIDDEN_SIZE, state_is_tuple=True)#\n",
    "    return lstm_cell\n",
    "\n",
    "'''定义LSTM模型'''\n",
    "def lstm_model(X, y):\n",
    "    '''以前面定义的LSTM cell为基础定义多层堆叠的LSTM，我们这里只有1层'''\n",
    "    cell = rnn.MultiRNNCell([LstmCell() for _ in range(NUM_LAYERS)])\n",
    "\n",
    "    '''将已经堆叠起的LSTM单元转化成动态的可在训练过程中更新的LSTM单元'''\n",
    "    output, _ = tf.nn.dynamic_rnn(cell, X, dtype=tf.float32)\n",
    "\n",
    "    '''根据预定义的每层神经元个数来生成隐层每个单元'''\n",
    "    output = tf.reshape(output, [-1, HIDDEN_SIZE])\n",
    "\n",
    "    '''通过无激活函数的全连接层计算线性回归，并将数据压缩成一维数组结构'''\n",
    "    predictions = tf.contrib.layers.fully_connected(output, 14,None)\n",
    "\n",
    "    '''统一预测值与真实值的形状'''\n",
    "    labels = tf.reshape(y, [-1])\n",
    "    predictions = tf.reshape(predictions, [-1])\n",
    "\n",
    "    '''定义损失函数，这里为正常的均方误差'''\n",
    "    loss = tf.losses.absolute_difference(predictions, labels)\n",
    "\n",
    "    '''定义优化器各参数'''\n",
    "    train_op = tf.contrib.layers.optimize_loss(loss,\n",
    "                                               tf.contrib.framework.get_global_step(),\n",
    "                                               optimizer='Adagrad',\n",
    "                                               learning_rate=0.1)\n",
    "    '''返回预测值、损失函数及优化器'''\n",
    "    return predictions, loss, train_op\n",
    "def train(data):\n",
    "    '''载入tf中仿sklearn训练方式的模块'''\n",
    "    learn = tf.contrib.learn\n",
    "\n",
    "    '''初始化我们的LSTM模型，并保存到工作目录下以方便进行增量学习'''\n",
    "    regressor = SKCompat(learn.Estimator(model_fn=lstm_model, model_dir='Models/model_2'))\n",
    "\n",
    "    '''对原数据进行尺度缩放'''\n",
    "    data = data_processing(data)\n",
    "\n",
    "    '''将所有样本来作为训练样本'''\n",
    "    train_X, train_y = generate_data(data)\n",
    "\n",
    "    '''以仿sklearn的形式训练模型，这里指定了训练批尺寸和训练轮数'''\n",
    "    regressor.fit(train_X, train_y, batch_size=BATCH_SIZE, steps=TRAINING_STEPS)\n",
    "    return regressor.score\n",
    "    \n",
    "def predict(test_X):\n",
    "    '''利用已训练好的LSTM模型，来生成对应测试集的所有预测值'''\n",
    "    predicted = np.array([pred for pred in regressor.predict(test_X)])\n",
    "    return predicted"
   ]
  },
  {
   "cell_type": "code",
   "execution_count": 12,
   "metadata": {},
   "outputs": [],
   "source": [
    "file_path= '门店销量预测数据.xlsx'\n",
    "df = pd.read_excel(file_path,parse_dates=[1])\n",
    "group=df.groupby('门店编号')"
   ]
  },
  {
   "cell_type": "code",
   "execution_count": 19,
   "metadata": {},
   "outputs": [
    {
     "name": "stdout",
     "output_type": "stream",
     "text": [
      "<class 'pandas.core.frame.DataFrame'>\n",
      "<class 'pandas.core.frame.DataFrame'>\n",
      "<class 'pandas.core.frame.DataFrame'>\n",
      "<class 'pandas.core.frame.DataFrame'>\n"
     ]
    }
   ],
   "source": [
    "for i in group:\n",
    "    i[1]"
   ]
  }
 ],
 "metadata": {
  "kernelspec": {
   "display_name": "Python 3",
   "language": "python",
   "name": "python3"
  },
  "language_info": {
   "codemirror_mode": {
    "name": "ipython",
    "version": 3
   },
   "file_extension": ".py",
   "mimetype": "text/x-python",
   "name": "python",
   "nbconvert_exporter": "python",
   "pygments_lexer": "ipython3",
   "version": "3.6.5"
  },
  "toc": {
   "base_numbering": 1,
   "nav_menu": {},
   "number_sections": true,
   "sideBar": true,
   "skip_h1_title": false,
   "title_cell": "Table of Contents",
   "title_sidebar": "Contents",
   "toc_cell": false,
   "toc_position": {},
   "toc_section_display": true,
   "toc_window_display": false
  }
 },
 "nbformat": 4,
 "nbformat_minor": 2
}
